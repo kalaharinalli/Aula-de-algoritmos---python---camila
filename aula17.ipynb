{
 "cells": [
  {
   "cell_type": "code",
   "execution_count": 1,
   "metadata": {},
   "outputs": [
    {
     "name": "stdout",
     "output_type": "stream",
     "text": [
      "5 patinhos foram passear\n",
      "Além das montanhas para brincar\n",
      "A mamãe gritou: Quá, quá, quá, quá\n",
      "Mas só 4 patinhos voltaram de lá.\n",
      "\n",
      "4 patinhos foram passear\n",
      "Além das montanhas para brincar\n",
      "A mamãe gritou: Quá, quá, quá, quá\n",
      "Mas só 3 patinhos voltaram de lá.\n",
      "\n",
      "3 patinhos foram passear\n",
      "Além das montanhas para brincar\n",
      "A mamãe gritou: Quá, quá, quá, quá\n",
      "Mas só 2 patinhos voltaram de lá.\n",
      "\n",
      "2 patinhos foram passear\n",
      "Além das montanhas para brincar\n",
      "A mamãe gritou: Quá, quá, quá, quá\n",
      "Mas só 1 patinhos voltaram de lá.\n",
      "\n",
      "A mamãe patinha foi procurar\n",
      "Além das montanhas na beira do mar\n",
      "A mamãe gritou: Quá, quá, quá, quá\n",
      "E os 5 patinhos voltaram de lá.\n"
     ]
    }
   ],
   "source": [
    "#5 patinhos\n",
    "# Definimos o número inicial de patinhos\n",
    "n = 5\n",
    "\n",
    "# Laço while para imprimir a música enquanto há patinhos\n",
    "while n > 1:\n",
    "    print(f\"{n} patinhos foram passear\")\n",
    "    print(\"Além das montanhas para brincar\")\n",
    "    print(\"A mamãe gritou: Quá, quá, quá, quá\")\n",
    "    print(f\"Mas só {n - 1} patinhos voltaram de lá.\\n\")\n",
    "    n -= 1\n",
    "\n",
    "# Parte final da música quando todos os patinhos voltam\n",
    "print(\"A mamãe patinha foi procurar\")\n",
    "print(\"Além das montanhas na beira do mar\")\n",
    "print(\"A mamãe gritou: Quá, quá, quá, quá\")\n",
    "print(\"E os 5 patinhos voltaram de lá.\")\n"
   ]
  }
 ],
 "metadata": {
  "kernelspec": {
   "display_name": "Python 3",
   "language": "python",
   "name": "python3"
  },
  "language_info": {
   "codemirror_mode": {
    "name": "ipython",
    "version": 3
   },
   "file_extension": ".py",
   "mimetype": "text/x-python",
   "name": "python",
   "nbconvert_exporter": "python",
   "pygments_lexer": "ipython3",
   "version": "3.10.4"
  }
 },
 "nbformat": 4,
 "nbformat_minor": 2
}
