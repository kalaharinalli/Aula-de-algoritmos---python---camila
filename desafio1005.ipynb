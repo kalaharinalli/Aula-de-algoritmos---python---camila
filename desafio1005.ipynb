{
 "cells": [
  {
   "cell_type": "code",
   "execution_count": null,
   "metadata": {},
   "outputs": [],
   "source": [
    "#aula 10/05\n",
    "# Inicializa contadores para números pares e ímpares\n",
    "conta_pares = 0\n",
    "conta_impares = 0\n",
    "\n",
    "# Pede 10 números ao usuário\n",
    "for i in range(10):\n",
    "    numero = int(input(\"Digite um número inteiro: \"))\n",
    "    if numero % 2 == 0:\n",
    "        conta_pares += 1\n",
    "    else:\n",
    "        conta_impares += 1\n",
    "\n",
    "# Mostra a quantidade de números pares e ímpares\n",
    "print(f\"Quantidade de números pares: {conta_pares}\")\n",
    "print(f\"Quantidade de números ímpares: {conta_impares}\")\n"
   ]
  }
 ],
 "metadata": {
  "language_info": {
   "name": "python"
  }
 },
 "nbformat": 4,
 "nbformat_minor": 2
}
