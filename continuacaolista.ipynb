{
 "cells": [
  {
   "cell_type": "code",
   "execution_count": 1,
   "metadata": {},
   "outputs": [
    {
     "name": "stdout",
     "output_type": "stream",
     "text": [
      "O produto do dobro do primeiro com metade do segundo é: 40.0\n",
      "A soma do triplo do primeiro com o terceiro elevado ao cubo é: 358.0\n"
     ]
    }
   ],
   "source": [
    "# Questão 6\n",
    "\n",
    "# Solicitando os números do usuário\n",
    "num1 = int(input(\"Digite o primeiro número inteiro: \"))\n",
    "num2 = int(input(\"Digite o segundo número inteiro: \"))\n",
    "num3 = float(input(\"Digite um número real: \"))\n",
    "\n",
    "# Calculando e mostrando os resultados\n",
    "produto = (2 * num1) * (num2 / 2)\n",
    "print(\"O produto do dobro do primeiro com metade do segundo é:\", produto)\n",
    "\n",
    "soma = (3 * num1) + (num3 ** 3)\n",
    "print(\"A soma do triplo do primeiro com o terceiro elevado ao cubo é:\", soma)\n",
    "\n"
   ]
  },
  {
   "cell_type": "code",
   "execution_count": 2,
   "metadata": {},
   "outputs": [
    {
     "name": "stdout",
     "output_type": "stream",
     "text": [
      "O maior número é: 12.0\n"
     ]
    }
   ],
   "source": [
    "# Questão 7\n",
    "\n",
    "# Solicitando os números do usuário\n",
    "num1 = float(input(\"Digite o primeiro número: \"))\n",
    "num2 = float(input(\"Digite o segundo número: \"))\n",
    "\n",
    "# Verificando e imprimindo o maior número\n",
    "if num1 > num2:\n",
    "    print(\"O maior número é:\", num1)\n",
    "elif num2 > num1:\n",
    "    print(\"O maior número é:\", num2)\n",
    "else:\n",
    "    print(\"Os números são iguais\")\n"
   ]
  },
  {
   "cell_type": "code",
   "execution_count": 3,
   "metadata": {},
   "outputs": [
    {
     "name": "stdout",
     "output_type": "stream",
     "text": [
      "O valor é positivo\n"
     ]
    }
   ],
   "source": [
    "# Questão 8\n",
    "\n",
    "# Solicitando o valor do usuário\n",
    "valor = float(input(\"Digite um valor: \"))\n",
    "\n",
    "# Verificando e imprimindo se o valor é positivo ou negativo\n",
    "if valor > 0:\n",
    "    print(\"O valor é positivo\")\n",
    "elif valor < 0:\n",
    "    print(\"O valor é negativo\")\n",
    "else:\n",
    "    print(\"O valor é zero\")\n"
   ]
  },
  {
   "cell_type": "code",
   "execution_count": 4,
   "metadata": {},
   "outputs": [
    {
     "name": "stdout",
     "output_type": "stream",
     "text": [
      "Reprovado\n"
     ]
    }
   ],
   "source": [
    "# Questão 9\n",
    "\n",
    "# Solicitando as notas do usuário\n",
    "nota1 = float(input(\"Digite a primeira nota: \"))\n",
    "nota2 = float(input(\"Digite a segunda nota: \"))\n",
    "\n",
    "# Calculando a média\n",
    "media = (nota1 + nota2) / 2\n",
    "\n",
    "# Verificando e imprimindo se o aluno foi aprovado ou reprovado\n",
    "if media >= 7.0:\n",
    "    print(\"Aprovado\")\n",
    "else:\n",
    "    print(\"Reprovado\")\n"
   ]
  },
  {
   "cell_type": "code",
   "execution_count": null,
   "metadata": {},
   "outputs": [],
   "source": [
    "# Questão 10\n",
    "\n",
    "# Solicitando os três números do usuário\n",
    "num1 = float(input(\"Digite o primeiro número: \"))\n",
    "num2 = float(input(\"Digite o segundo número: \"))\n",
    "num3 = float(input(\"Digite o terceiro número: \"))\n",
    "\n",
    "# Verificando e imprimindo o maior número\n",
    "if num1 >= num2 and num1 >= num3:\n",
    "    print(\"O maior número é:\", num1)\n",
    "elif num2 >= num1 and num2 >= num3:\n",
    "    print(\"O maior número é:\", num2)\n",
    "else:\n",
    "    print(\"O maior número é:\", num3)\n"
   ]
  }
 ],
 "metadata": {
  "kernelspec": {
   "display_name": "Python 3",
   "language": "python",
   "name": "python3"
  },
  "language_info": {
   "codemirror_mode": {
    "name": "ipython",
    "version": 3
   },
   "file_extension": ".py",
   "mimetype": "text/x-python",
   "name": "python",
   "nbconvert_exporter": "python",
   "pygments_lexer": "ipython3",
   "version": "3.10.4"
  }
 },
 "nbformat": 4,
 "nbformat_minor": 2
}
