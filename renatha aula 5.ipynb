{
 "cells": [
  {
   "cell_type": "code",
   "execution_count": 2,
   "metadata": {},
   "outputs": [],
   "source": [
    "valor_int = int(input(\"Digite um número: \"))"
   ]
  },
  {
   "cell_type": "code",
   "execution_count": 3,
   "metadata": {},
   "outputs": [
    {
     "name": "stdout",
     "output_type": "stream",
     "text": [
      "29\n"
     ]
    }
   ],
   "source": [
    "print(valor_int)"
   ]
  },
  {
   "cell_type": "code",
   "execution_count": 4,
   "metadata": {},
   "outputs": [
    {
     "name": "stdout",
     "output_type": "stream",
     "text": [
      "13\n"
     ]
    }
   ],
   "source": [
    "valor_int2 = int(input(\"escreva um número\"))\n",
    "valor_int3 =int(input(\"escreva outro número\"))\n",
    "soma = valor_int2 + valor_int3\n",
    "print(soma)"
   ]
  },
  {
   "cell_type": "code",
   "execution_count": 5,
   "metadata": {},
   "outputs": [
    {
     "name": "stdout",
     "output_type": "stream",
     "text": [
      "7.833333333333333\n"
     ]
    }
   ],
   "source": [
    "valor1 = float(input(\"Escreva o primeiro número \"))\n",
    "valor2 = float(input(\"Escreva o segundo número \"))\n",
    "valor3 = float(input(\"Escreva o terceiro número \"))\n",
    "media = (valor1 + valor2 + valor3)/3\n",
    "print(media)"
   ]
  },
  {
   "cell_type": "code",
   "execution_count": 7,
   "metadata": {},
   "outputs": [
    {
     "name": "stdout",
     "output_type": "stream",
     "text": [
      "6000.0\n"
     ]
    }
   ],
   "source": [
    "qnt_ganha = float(input(\"Quantas você ganha\"))\n",
    "num_horas = int(input(\"números de horas trabalhadas\"))\n",
    "salario = qnt_ganha * num_horas\n",
    "print(salario)"
   ]
  },
  {
   "cell_type": "code",
   "execution_count": 11,
   "metadata": {},
   "outputs": [
    {
     "name": "stdout",
     "output_type": "stream",
     "text": [
      "4.0\n",
      "16.0\n"
     ]
    }
   ],
   "source": [
    "# Ler a variável peso\n",
    "peso_pei = float(input(\"Qual o peso do peixe\"))\n",
    "\n",
    "# E depois calcular o excesso\n",
    "excesso = peso_pei - 50\n",
    "if excesso > 0:\n",
    "    multa = excesso * 4\n",
    "    print(excesso)\n",
    "    print(multa)\n",
    "    \n",
    "else:\n",
    "    print()"
   ]
  }
 ],
 "metadata": {
  "kernelspec": {
   "display_name": "Python 3",
   "language": "python",
   "name": "python3"
  },
  "language_info": {
   "codemirror_mode": {
    "name": "ipython",
    "version": 3
   },
   "file_extension": ".py",
   "mimetype": "text/x-python",
   "name": "python",
   "nbconvert_exporter": "python",
   "pygments_lexer": "ipython3",
   "version": "3.10.11"
  }
 },
 "nbformat": 4,
 "nbformat_minor": 2
}
