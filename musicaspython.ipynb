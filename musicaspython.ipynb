{
 "cells": [
  {
   "cell_type": "code",
   "execution_count": 1,
   "metadata": {},
   "outputs": [
    {
     "name": "stdout",
     "output_type": "stream",
     "text": [
      "5 patinhos foram passear\n",
      "Além das montanhas para brincar\n",
      "A mamãe gritou: Quá, quá, quá, quá\n",
      "Mas só 4 patinhos voltaram de lá\n",
      "\n",
      "4 patinhos foram passear\n",
      "Além das montanhas para brincar\n",
      "A mamãe gritou: Quá, quá, quá, quá\n",
      "Mas só 3 patinhos voltaram de lá\n",
      "\n",
      "3 patinhos foram passear\n",
      "Além das montanhas para brincar\n",
      "A mamãe gritou: Quá, quá, quá, quá\n",
      "Mas só 2 patinhos voltaram de lá\n",
      "\n",
      "2 patinhos foram passear\n",
      "Além das montanhas para brincar\n",
      "A mamãe gritou: Quá, quá, quá, quá\n",
      "Mas só um patinho voltou de lá\n",
      "\n",
      "1 patinhos foram passear\n",
      "Além das montanhas para brincar\n",
      "A mamãe gritou: Quá, quá, quá, quá\n",
      "Mas nenhum patinho voltou de lá\n",
      "\n",
      "A mamãe patinha foi procurar\n",
      "Além das montanhas, na beira do mar\n",
      "A mamãe gritou: Quá, quá, quá, quá\n",
      "E os cinco patinhos voltaram de lá\n",
      "\n"
     ]
    }
   ],
   "source": [
    "def cinco_patinho():\n",
    "    # Define o número inicial de patinhos\n",
    "    patinhos = 5\n",
    "    \n",
    "    # Loop para contar os patinhos descendo até 1\n",
    "    for i in range(patinhos, 0, -1):\n",
    "        # Verso padrão da música\n",
    "        print(f\"{i} patinhos foram passear\")\n",
    "        print(\"Além das montanhas para brincar\")\n",
    "        print(\"A mamãe gritou: Quá, quá, quá, quá\")\n",
    "        \n",
    "        # Condicional para modificar o número de patinhos que voltam\n",
    "        if i - 1 == 1:\n",
    "            print(\"Mas só um patinho voltou de lá\\n\")\n",
    "        elif i - 1 == 0:\n",
    "            print(\"Mas nenhum patinho voltou de lá\\n\")\n",
    "        else:\n",
    "            print(f\"Mas só {i-1} patinhos voltaram de lá\\n\")\n",
    "    \n",
    "    # Última estrofe\n",
    "    print(\"A mamãe patinha foi procurar\")\n",
    "    print(\"Além das montanhas, na beira do mar\")\n",
    "    print(\"A mamãe gritou: Quá, quá, quá, quá\")\n",
    "    print(\"E os cinco patinhos voltaram de lá\\n\")\n",
    "\n",
    "# Chama a função para executar a música\n",
    "cinco_patinho()\n"
   ]
  },
  {
   "cell_type": "code",
   "execution_count": 2,
   "metadata": {},
   "outputs": [
    {
     "name": "stdout",
     "output_type": "stream",
     "text": [
      "Mariana conta 1,\n",
      "Mariana conta 2,\n",
      "Mariana conta 3,\n",
      "Mariana conta 4,\n",
      "Mariana conta 5,\n",
      "Mariana conta 6,\n",
      "Mariana conta 7,\n",
      "Mariana conta 8,\n",
      "Mariana conta 9,\n",
      "Mariana conta 10,\n",
      "Viva Mariana, Viva Mariana!\n"
     ]
    }
   ],
   "source": [
    "def cantar_viva_mariana():\n",
    "    # Definindo o número máximo de contagens\n",
    "    max_contagem = 10\n",
    "    \n",
    "    # Loop para contar de 1 até 10\n",
    "    for i in range(1, max_contagem + 1):\n",
    "        print(f\"Mariana conta {i},\")\n",
    "    \n",
    "    # Última linha da música\n",
    "    print(\"Viva Mariana, Viva Mariana!\")\n",
    "\n",
    "# Chama a função para executar a música\n",
    "cantar_viva_mariana()\n"
   ]
  },
  {
   "cell_type": "code",
   "execution_count": 3,
   "metadata": {},
   "outputs": [
    {
     "name": "stdout",
     "output_type": "stream",
     "text": [
      "1 elefante incomoda muita gente,\n",
      "2 elefantes incomodam muito mais,\n",
      "3 elefantes incomodam muito mais,\n",
      "4 elefantes incomodam muito mais,\n",
      "5 elefantes incomodam muito mais,\n"
     ]
    }
   ],
   "source": [
    "def cantar_um_elefante(num_elefantes):\n",
    "    for i in range(1, num_elefantes + 1):\n",
    "        if i == 1:\n",
    "            print(str(i) + \" elefante incomoda muita gente,\")\n",
    "        else:\n",
    "            print(str(i) + \" elefantes incomodam muito mais,\")\n",
    "\n",
    "# Chama a função para executar a música com 5 elefantes, por exemplo\n",
    "cantar_um_elefante(5)\n"
   ]
  }
 ],
 "metadata": {
  "kernelspec": {
   "display_name": "Python 3",
   "language": "python",
   "name": "python3"
  },
  "language_info": {
   "codemirror_mode": {
    "name": "ipython",
    "version": 3
   },
   "file_extension": ".py",
   "mimetype": "text/x-python",
   "name": "python",
   "nbconvert_exporter": "python",
   "pygments_lexer": "ipython3",
   "version": "3.10.4"
  }
 },
 "nbformat": 4,
 "nbformat_minor": 2
}
