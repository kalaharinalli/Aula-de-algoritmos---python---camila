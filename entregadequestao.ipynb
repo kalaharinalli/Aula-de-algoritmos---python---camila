{
 "cells": [
  {
   "cell_type": "code",
   "execution_count": 2,
   "metadata": {},
   "outputs": [
    {
     "name": "stdout",
     "output_type": "stream",
     "text": [
      "A letra 'b' é uma consoante.\n"
     ]
    }
   ],
   "source": [
    "#questão 1\n",
    "# Lista de vogais\n",
    "vogais = ['a', 'e', 'i', 'o', 'u']\n",
    "\n",
    "# Solicita ao usuário que digite uma letra\n",
    "letra = input(\"Digite uma letra: \").lower()\n",
    "\n",
    "# Verifica se a entrada é uma única letra\n",
    "if len(letra) == 1 and letra.isalpha():\n",
    "    # Inicializa uma variável para indicar se a letra é uma vogal\n",
    "    eh_vogal = False\n",
    "\n",
    "    # Percorre a lista de vogais para verificar se a letra está nela\n",
    "    for vogal in vogais:\n",
    "        if letra == vogal:\n",
    "            eh_vogal = True\n",
    "            break\n",
    "\n",
    "    # Imprime o resultado\n",
    "    if eh_vogal:\n",
    "        print(f\"A letra '{letra}' é uma vogal.\")\n",
    "    else:\n",
    "        print(f\"A letra '{letra}' é uma consoante.\")\n",
    "else:\n",
    "    print(\"Por favor, digite apenas uma letra.\")\n"
   ]
  },
  {
   "cell_type": "code",
   "execution_count": 3,
   "metadata": {},
   "outputs": [
    {
     "name": "stdout",
     "output_type": "stream",
     "text": [
      "Você deve comprar o primeiro produto.\n"
     ]
    }
   ],
   "source": [
    "#faça um programa que pergunte o preço de três produtos e informe qual produto você deve comprar, sabendo que a decisão é sempre pelo mais barato\n",
    "# Solicita ao usuário que digite o preço de três produtos\n",
    "preco1 = float(input(\"Digite o preço do primeiro produto: \"))\n",
    "preco2 = float(input(\"Digite o preço do segundo produto: \"))\n",
    "preco3 = float(input(\"Digite o preço do terceiro produto: \"))\n",
    "\n",
    "# Verifica qual produto tem o menor preço\n",
    "if preco1 < preco2 and preco1 < preco3:\n",
    "    print(\"Você deve comprar o primeiro produto.\")\n",
    "elif preco2 < preco1 and preco2 < preco3:\n",
    "    print(\"Você deve comprar o segundo produto.\")\n",
    "else:\n",
    "    print(\"Você deve comprar o terceiro produto.\")\n"
   ]
  },
  {
   "cell_type": "code",
   "execution_count": 4,
   "metadata": {},
   "outputs": [
    {
     "name": "stdout",
     "output_type": "stream",
     "text": [
      "Os números em ordem decrescente são:\n",
      "10.0\n",
      "9.0\n",
      "5.0\n"
     ]
    }
   ],
   "source": [
    "#questão 2\n",
    "# Solicita ao usuário que digite três números\n",
    "num1 = float(input(\"Digite o primeiro número: \"))\n",
    "num2 = float(input(\"Digite o segundo número: \"))\n",
    "num3 = float(input(\"Digite o terceiro número: \"))\n",
    "\n",
    "# Coloca os números em uma lista\n",
    "numeros = [num1, num2, num3]\n",
    "\n",
    "# Lista vazia para armazenar os números em ordem decrescente\n",
    "ordenados = []\n",
    "\n",
    "# Repetição para encontrar o maior número e adicioná-lo à lista ordenada\n",
    "for _ in range(3):\n",
    "    maior = numeros[0]\n",
    "    for numero in numeros:\n",
    "        if numero > maior:\n",
    "            maior = numero\n",
    "    ordenados.append(maior)\n",
    "    numeros.remove(maior)\n",
    "\n",
    "# Exibe os números em ordem decrescente\n",
    "print(\"Os números em ordem decrescente são:\")\n",
    "for numero in ordenados:\n",
    "    print(numero)\n",
    "\n",
    "\n"
   ]
  },
  {
   "cell_type": "code",
   "execution_count": 8,
   "metadata": {},
   "outputs": [
    {
     "name": "stdout",
     "output_type": "stream",
     "text": [
      "Valor inválido\n"
     ]
    }
   ],
   "source": [
    "#3\n",
    "# Solicita ao usuário que digite o turno em que estuda\n",
    "turno = input(\"Em que turno você estuda? Digite M-matutino, V-vespertino ou N-noturno: \").upper()\n",
    "\n",
    "# Verifica o turno e imprime a mensagem correspondente\n",
    "if turno == 'M':\n",
    "    print(\"Bom dia!\")\n",
    "elif turno == 'V':\n",
    "    print(\"Boa tarde!\")\n",
    "elif turno == 'N':\n",
    "    print(\"Boa noite!\")\n",
    "else:\n",
    "    print(\"Valor inválido\")\n"
   ]
  },
  {
   "cell_type": "code",
   "execution_count": 9,
   "metadata": {},
   "outputs": [
    {
     "name": "stdout",
     "output_type": "stream",
     "text": [
      "O dia correspondente é: Quinta-feira\n"
     ]
    }
   ],
   "source": [
    "#4\n",
    "# Solicita ao usuário que digite um número\n",
    "numero = int(input(\"Digite um número de 1 a 7 para ver o dia correspondente da semana: \"))\n",
    "\n",
    "# Lista que mapeia números aos dias da semana\n",
    "dias_da_semana = [\"Domingo\", \"Segunda-feira\", \"Terça-feira\", \"Quarta-feira\", \"Quinta-feira\", \"Sexta-feira\", \"Sábado\"]\n",
    "\n",
    "# Verifica se o número está entre 1 e 7 e imprime o dia correspondente\n",
    "if 1 <= numero <= 7:\n",
    "    print(f\"O dia correspondente é: {dias_da_semana[numero - 1]}\")\n",
    "else:\n",
    "    print(\"Valor inválido\")\n"
   ]
  },
  {
   "cell_type": "code",
   "execution_count": 10,
   "metadata": {},
   "outputs": [
    {
     "name": "stdout",
     "output_type": "stream",
     "text": [
      "Notas:  5.0 ,  8.0\n",
      "Média:  6.5\n",
      "Conceito:  C\n",
      "Status:  APROVADO\n"
     ]
    }
   ],
   "source": [
    "#5\n",
    "# Solicita ao usuário que digite as duas notas\n",
    "nota1 = float(input(\"Digite a primeira nota: \"))\n",
    "nota2 = float(input(\"Digite a segunda nota: \"))\n",
    "\n",
    "# Calcula a média das notas\n",
    "media = (nota1 + nota2) / 2\n",
    "\n",
    "# Determina o conceito baseado na média\n",
    "if media >= 9.0 and media <= 10.0:\n",
    "    conceito = 'A'\n",
    "elif media >= 7.5 and media < 9.0:\n",
    "    conceito = 'B'\n",
    "elif media >= 6.0 and media < 7.5:\n",
    "    conceito = 'C'\n",
    "elif media >= 4.0 and media < 6.0:\n",
    "    conceito = 'D'\n",
    "else:\n",
    "    conceito = 'E'\n",
    "\n",
    "# Determina se o aluno está aprovado ou reprovado\n",
    "if conceito == 'A' or conceito == 'B' or conceito == 'C':\n",
    "    status = \"APROVADO\"\n",
    "else:\n",
    "    status = \"REPROVADO\"\n",
    "\n",
    "# Exibe as notas, a média, o conceito e o status\n",
    "print(\"Notas: \", nota1, \", \", nota2)\n",
    "print(\"Média: \", media)\n",
    "print(\"Conceito: \", conceito)\n",
    "print(\"Status: \", status)\n"
   ]
  },
  {
   "cell_type": "code",
   "execution_count": 13,
   "metadata": {},
   "outputs": [
    {
     "name": "stdout",
     "output_type": "stream",
     "text": [
      "O ano 2024 é bissexto.\n"
     ]
    }
   ],
   "source": [
    "#6\n",
    "# Solicita ao usuário que digite um ano\n",
    "ano = int(input(\"Digite um ano: \"))\n",
    "\n",
    "# Verifica se o ano é bissexto\n",
    "if (ano % 4 == 0 and ano % 100 != 0) or (ano % 400 == 0):\n",
    "    print(\"O ano\", ano, \"é bissexto.\")\n",
    "else:\n",
    "    print(\"O ano\", ano, \"não é bissexto.\")\n"
   ]
  },
  {
   "cell_type": "code",
   "execution_count": 14,
   "metadata": {},
   "outputs": [
    {
     "name": "stdout",
     "output_type": "stream",
     "text": [
      "Resultado:  64.0\n",
      "O número é par, positivo e inteiro.\n"
     ]
    }
   ],
   "source": [
    "#7\n",
    "# Solicita ao usuário que digite dois números\n",
    "num1 = float(input(\"Digite o primeiro número: \"))\n",
    "num2 = float(input(\"Digite o segundo número: \"))\n",
    "\n",
    "# Solicita ao usuário que escolha uma operação\n",
    "operacao = input(\"Digite a operação desejada (soma, subtração, multiplicação, divisão, exponenciação): \").lower()\n",
    "\n",
    "# Realiza a operação escolhida\n",
    "if operacao == \"soma\":\n",
    "    resultado = num1 + num2\n",
    "elif operacao == \"subtração\":\n",
    "    resultado = num1 - num2\n",
    "elif operacao == \"multiplicação\":\n",
    "    resultado = num1 * num2\n",
    "elif operacao == \"divisão\":\n",
    "    if num2 != 0:\n",
    "        resultado = num1 / num2\n",
    "    else:\n",
    "        resultado = None\n",
    "        print(\"Erro: Divisão por zero!\")\n",
    "elif operacao == \"exponenciação\":\n",
    "    resultado = num1 ** num2\n",
    "else:\n",
    "    resultado = None\n",
    "    print(\"Operação inválida!\")\n",
    "\n",
    "# Verifica se a operação foi bem-sucedida antes de prosseguir\n",
    "if resultado is not None:\n",
    "    # Determina se o resultado é par ou ímpar\n",
    "    if resultado % 2 == 0:\n",
    "        par_impar = \"par\"\n",
    "    else:\n",
    "        par_impar = \"ímpar\"\n",
    "\n",
    "    # Determina se o resultado é positivo ou negativo\n",
    "    if resultado > 0:\n",
    "        positivo_negativo = \"positivo\"\n",
    "    elif resultado < 0:\n",
    "        positivo_negativo = \"negativo\"\n",
    "    else:\n",
    "        positivo_negativo = \"neutro\"\n",
    "\n",
    "    # Determina se o resultado é inteiro ou decimal\n",
    "    if resultado == int(resultado):\n",
    "        tipo_numero = \"inteiro\"\n",
    "    else:\n",
    "        tipo_numero = \"decimal\"\n",
    "\n",
    "    # Exibe o resultado da operação e suas características\n",
    "    print(\"Resultado: \", resultado)\n",
    "    print(\"O número é \", par_impar, \", \", positivo_negativo, \" e \", tipo_numero, \".\", sep=\"\")\n"
   ]
  },
  {
   "cell_type": "code",
   "execution_count": 16,
   "metadata": {},
   "outputs": [
    {
     "name": "stdout",
     "output_type": "stream",
     "text": [
      "Valor inválido. Idade deve estar entre 0 e 150.\n"
     ]
    }
   ],
   "source": [
    "#8\n",
    "# Solicita ao usuário que digite a idade\n",
    "idade = int(input(\"Digite sua idade: \"))\n",
    "\n",
    "# Verifica se a idade está dentro do intervalo aceitável\n",
    "if 0 <= idade <= 150:\n",
    "    print(\"Sua idade é:\", idade)\n",
    "else:\n",
    "    print(\"Valor inválido. Idade deve estar entre 0 e 150.\")\n"
   ]
  },
  {
   "cell_type": "code",
   "execution_count": 17,
   "metadata": {},
   "outputs": [
    {
     "name": "stdout",
     "output_type": "stream",
     "text": [
      "Soma dos números: 34.0\n",
      "Média dos números: 6.8\n"
     ]
    }
   ],
   "source": [
    "#9\n",
    "# Inicializa a lista para armazenar os números\n",
    "numeros = []\n",
    "\n",
    "# Lê 5 números do usuário\n",
    "for i in range(5):\n",
    "    numero = float(input(\"Digite o número {}: \".format(i + 1)))\n",
    "    numeros.append(numero)\n",
    "\n",
    "# Calcula a soma e a média dos números\n",
    "soma = sum(numeros)\n",
    "media = soma / len(numeros)\n",
    "\n",
    "# Exibe a soma e a média\n",
    "print(\"Soma dos números:\", soma)\n",
    "print(\"Média dos números:\", media)\n"
   ]
  },
  {
   "cell_type": "code",
   "execution_count": 20,
   "metadata": {},
   "outputs": [
    {
     "name": "stdout",
     "output_type": "stream",
     "text": [
      "3 é um número primo.\n"
     ]
    }
   ],
   "source": [
    "#10\n",
    "# Solicita ao usuário que digite um número inteiro\n",
    "numero = int(input(\"Digite um número inteiro: \"))\n",
    "\n",
    "# Inicializa uma variável para verificar se o número é primo\n",
    "eh_primo = True\n",
    "\n",
    "# Verifica se o número é maior que 1\n",
    "if numero > 1:\n",
    "    # Percorre os números de 2 até a metade do número\n",
    "    for i in range(2, numero):\n",
    "        if (numero % i) == 0:\n",
    "            eh_primo = False\n",
    "else:\n",
    "    eh_primo = False\n",
    "\n",
    "# Exibe o resultado\n",
    "if eh_primo:\n",
    "    print(numero, \"é um número primo.\")\n",
    "else:\n",
    "    print(numero, \"não é um número primo.\")\n"
   ]
  },
  {
   "cell_type": "code",
   "execution_count": 21,
   "metadata": {},
   "outputs": [
    {
     "name": "stdout",
     "output_type": "stream",
     "text": [
      "Menor temperatura: -10.0\n",
      "Maior temperatura: 45.0\n",
      "Média das temperaturas: 18.4\n"
     ]
    }
   ],
   "source": [
    "#11\n",
    "# Inicializa a lista para armazenar as temperaturas\n",
    "temperaturas = []\n",
    "\n",
    "# Lê 5 temperaturas do usuário\n",
    "for i in range(5):\n",
    "    temp = float(input(\"Digite a temperatura {}: \".format(i + 1)))\n",
    "    temperaturas.append(temp)\n",
    "\n",
    "# Calcula a menor, a maior e a média das temperaturas\n",
    "menor_temp = min(temperaturas)\n",
    "maior_temp = max(temperaturas)\n",
    "media_temp = sum(temperaturas) / len(temperaturas)\n",
    "\n",
    "# Exibe a menor, a maior e a média das temperaturas\n",
    "print(\"Menor temperatura:\", menor_temp)\n",
    "print(\"Maior temperatura:\", maior_temp)\n",
    "print(\"Média das temperaturas:\", media_temp)\n"
   ]
  },
  {
   "cell_type": "code",
   "execution_count": 22,
   "metadata": {},
   "outputs": [
    {
     "name": "stdout",
     "output_type": "stream",
     "text": [
      "Saldo médio: 500.0\n",
      "Valor do crédito: 150.0\n"
     ]
    }
   ],
   "source": [
    "#12\n",
    "# Solicita ao usuário que digite o saldo médio\n",
    "saldo_medio = float(input(\"Digite o saldo médio do cliente: \"))\n",
    "\n",
    "# Determina o valor do crédito baseado no saldo médio\n",
    "if saldo_medio >= 0 and saldo_medio <= 200:\n",
    "    credito = 0\n",
    "elif saldo_medio >= 201 and saldo_medio <= 400:\n",
    "    credito = saldo_medio * 0.2\n",
    "elif saldo_medio >= 401 and saldo_medio <= 600:\n",
    "    credito = saldo_medio * 0.3\n",
    "elif saldo_medio > 600:\n",
    "    credito = saldo_medio * 0.4\n",
    "else:\n",
    "    credito = 0\n",
    "\n",
    "# Exibe o saldo médio e o valor do crédito\n",
    "print(\"Saldo médio:\", saldo_medio)\n",
    "print(\"Valor do crédito:\", credito)\n"
   ]
  },
  {
   "cell_type": "code",
   "execution_count": 23,
   "metadata": {},
   "outputs": [
    {
     "name": "stdout",
     "output_type": "stream",
     "text": [
      "renatha , você poderá se aposentar no ano de 2060\n"
     ]
    }
   ],
   "source": [
    "#13\n",
    "import datetime\n",
    "\n",
    "# Solicita ao usuário que digite o nome e a idade\n",
    "nome = input(\"Digite seu nome: \")\n",
    "idade = int(input(\"Digite sua idade: \"))\n",
    "\n",
    "# Calcula o ano atual\n",
    "ano_atual = datetime.datetime.now().year\n",
    "\n",
    "# Calcula o ano de aposentadoria\n",
    "anos_restantes = 65 - idade\n",
    "ano_aposentadoria = ano_atual + anos_restantes\n",
    "\n",
    "# Exibe a mensagem com o ano de aposentadoria\n",
    "print(nome, \", você poderá se aposentar no ano de\", ano_aposentadoria)\n"
   ]
  },
  {
   "cell_type": "code",
   "execution_count": 24,
   "metadata": {},
   "outputs": [
    {
     "name": "stdout",
     "output_type": "stream",
     "text": [
      "Salário Bruto: R$ 160.0\n",
      "Desconto IR: R$ 0\n",
      "Desconto Sindicato: R$ 4.8\n",
      "FGTS: R$ 17.6\n",
      "Salário Líquido: R$ 155.2\n"
     ]
    }
   ],
   "source": [
    "#14\n",
    "# Solicita ao usuário o valor da hora e a quantidade de horas trabalhadas no mês\n",
    "valor_hora = float(input(\"Digite o valor da sua hora de trabalho: \"))\n",
    "horas_trabalhadas = float(input(\"Digite a quantidade de horas trabalhadas no mês: \"))\n",
    "\n",
    "# Calcula o salário bruto\n",
    "salario_bruto = valor_hora * horas_trabalhadas\n",
    "\n",
    "# Calcula o desconto do IR\n",
    "if salario_bruto <= 2112.00:\n",
    "    desconto_ir = 0\n",
    "elif salario_bruto <= 2826.65:\n",
    "    desconto_ir = salario_bruto * 0.075\n",
    "elif salario_bruto <= 3751.05:\n",
    "    desconto_ir = salario_bruto * 0.15\n",
    "elif salario_bruto <= 4664.68:\n",
    "    desconto_ir = salario_bruto * 0.225\n",
    "else:\n",
    "    desconto_ir = salario_bruto * 0.275\n",
    "\n",
    "# Calcula o desconto do Sindicato\n",
    "desconto_sindicato = salario_bruto * 0.03\n",
    "\n",
    "# Calcula o FGTS (não descontado do salário)\n",
    "fgts = salario_bruto * 0.11\n",
    "\n",
    "# Calcula o salário líquido\n",
    "salario_liquido = salario_bruto - desconto_ir - desconto_sindicato\n",
    "\n",
    "# Exibe os resultados\n",
    "print(\"Salário Bruto: R$\", salario_bruto)\n",
    "print(\"Desconto IR: R$\", desconto_ir)\n",
    "print(\"Desconto Sindicato: R$\", desconto_sindicato)\n",
    "print(\"FGTS: R$\", fgts)\n",
    "print(\"Salário Líquido: R$\", salario_liquido)\n"
   ]
  }
 ],
 "metadata": {
  "kernelspec": {
   "display_name": "Python 3",
   "language": "python",
   "name": "python3"
  },
  "language_info": {
   "codemirror_mode": {
    "name": "ipython",
    "version": 3
   },
   "file_extension": ".py",
   "mimetype": "text/x-python",
   "name": "python",
   "nbconvert_exporter": "python",
   "pygments_lexer": "ipython3",
   "version": "3.10.4"
  }
 },
 "nbformat": 4,
 "nbformat_minor": 2
}
