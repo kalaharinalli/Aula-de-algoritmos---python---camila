{
 "cells": [
  {
   "cell_type": "code",
   "execution_count": 25,
   "metadata": {},
   "outputs": [],
   "source": [
    "#criando uma classe\n",
    "class Animal():\n",
    "    #construtor da classe\n",
    "    def __init__(self, name, weight, color):\n",
    "        #atributos\n",
    "        self.nome = name\n",
    "        self.peso = weight\n",
    "        self.corDoPelo = color\n",
    "        \n",
    "    def imprimirDados(self):\n",
    "        return(\"Nome: %s \\npeso %s\" %(self.nome, self.peso))\n",
    "    \n",
    "    def latir(self, barulho):\n",
    "        print(barulho)"
   ]
  },
  {
   "cell_type": "code",
   "execution_count": 26,
   "metadata": {},
   "outputs": [
    {
     "name": "stdout",
     "output_type": "stream",
     "text": [
      "Nome: Marlene \n",
      "peso 7.9\n",
      "Au, Au!\n",
      "Nome: Cibele \n",
      "peso 4.5\n",
      "Miau!\n"
     ]
    }
   ],
   "source": [
    "#Instanciando um objeto cachorro\n",
    "caozinho = Animal(\"Marlene\", 7.9, \"Caramelo\")\n",
    "gato = Animal (\"Cibele\", 4.5, \"Cinza\")\n",
    "\n",
    "#Chamando o metodo do objeto criado\n",
    "print(caozinho.imprimirDados())\n",
    "caozinho.latir(\"Au, Au!\")\n",
    "\n",
    "print(gato.imprimirDados())\n",
    "gato.latir(\"Miau!\")"
   ]
  },
  {
   "cell_type": "code",
   "execution_count": 31,
   "metadata": {},
   "outputs": [],
   "source": [
    "# Criando uma classe chamada livro\n",
    "class Livro():\n",
    "    \n",
    "    def __init__(self):\n",
    "        \n",
    "        self.titulo = 'Senhor dos aneis'\n",
    "        self.isbn = 9988888\n",
    "        print(\"Construtor chamado para criar um objeto desta classe\")\n",
    "        \n",
    "    def imprime(self):\n",
    "        print(\"Foi criado o livro %s e ISBN %d\" %(self.titulo, self.isbn))"
   ]
  },
  {
   "cell_type": "code",
   "execution_count": 28,
   "metadata": {},
   "outputs": [
    {
     "name": "stdout",
     "output_type": "stream",
     "text": [
      "Construtor chamado para criar um objeto desta classe\n"
     ]
    }
   ],
   "source": [
    "#Criando uma instancia de classe Livro\n",
    "Livro1 = Livro()"
   ]
  },
  {
   "cell_type": "code",
   "execution_count": 29,
   "metadata": {},
   "outputs": [
    {
     "data": {
      "text/plain": [
       "__main__.Livro"
      ]
     },
     "execution_count": 29,
     "metadata": {},
     "output_type": "execute_result"
    }
   ],
   "source": [
    "#Tipo do Objetivo Livro1\n",
    "type(Livro1)"
   ]
  },
  {
   "cell_type": "code",
   "execution_count": 30,
   "metadata": {},
   "outputs": [
    {
     "data": {
      "text/plain": [
       "'Senhor dos aneis'"
      ]
     },
     "execution_count": 30,
     "metadata": {},
     "output_type": "execute_result"
    }
   ],
   "source": [
    "#Atributo do objetivo Livro1\n",
    "Livro1.titulo"
   ]
  },
  {
   "cell_type": "code",
   "execution_count": 33,
   "metadata": {},
   "outputs": [],
   "source": [
    "# Criando uma classe chamada livro\n",
    "class Livro():\n",
    "    \n",
    "    def __init__(self, titulo, isbn):\n",
    "        \n",
    "        self.titulo = titulo\n",
    "        self.isbn = isbn\n",
    "        print(\"Construtor chamado para criar um objeto desta classe\")\n",
    "        \n",
    "    def imprime(self, titulo, isbn):\n",
    "        print(\"Foi criado o livro %s e ISBN %d\" %(self.titulo, self.isbn))"
   ]
  },
  {
   "cell_type": "code",
   "execution_count": 32,
   "metadata": {},
   "outputs": [
    {
     "name": "stdout",
     "output_type": "stream",
     "text": [
      "Construtor chamado para criar um objeto desta classe\n"
     ]
    }
   ],
   "source": [
    "#Criando o objetivo Livro2 que e uma  instancia da classe livro\n",
    "Livro2 = Livro(\"A menina que Roubava Livros\", 77886611)\n"
   ]
  }
 ],
 "metadata": {
  "kernelspec": {
   "display_name": "Python 3",
   "language": "python",
   "name": "python3"
  },
  "language_info": {
   "codemirror_mode": {
    "name": "ipython",
    "version": 3
   },
   "file_extension": ".py",
   "mimetype": "text/x-python",
   "name": "python",
   "nbconvert_exporter": "python",
   "pygments_lexer": "ipython3",
   "version": "3.11.2"
  }
 },
 "nbformat": 4,
 "nbformat_minor": 2
}
